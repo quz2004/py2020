{
  "nbformat": 4,
  "nbformat_minor": 0,
  "metadata": {
    "anaconda-cloud": {},
    "kernelspec": {
      "display_name": "Python 3",
      "language": "python",
      "name": "python3"
    },
    "language_info": {
      "codemirror_mode": {
        "name": "ipython",
        "version": 3
      },
      "file_extension": ".py",
      "mimetype": "text/x-python",
      "name": "python",
      "nbconvert_exporter": "python",
      "pygments_lexer": "ipython3",
      "version": "3.7.6"
    },
    "latex_envs": {
      "LaTeX_envs_menu_present": true,
      "autoclose": false,
      "autocomplete": true,
      "bibliofile": "biblio.bib",
      "cite_by": "apalike",
      "current_citInitial": 1,
      "eqLabelWithNumbers": true,
      "eqNumInitial": 1,
      "hotkeys": {
        "equation": "Ctrl-E",
        "itemize": "Ctrl-I"
      },
      "labels_anchors": false,
      "latex_user_defs": false,
      "report_style_numbering": false,
      "user_envs_cfg": false
    },
    "toc": {
      "base_numbering": 1,
      "nav_menu": {},
      "number_sections": true,
      "sideBar": true,
      "skip_h1_title": false,
      "title_cell": "Table of Contents",
      "title_sidebar": "Contents",
      "toc_cell": false,
      "toc_position": {},
      "toc_section_display": true,
      "toc_window_display": false
    },
    "colab": {
      "name": "Py2020-II.ipynb",
      "provenance": [],
      "collapsed_sections": []
    }
  },
  "cells": [
    {
      "cell_type": "markdown",
      "metadata": {
        "id": "jRjz557Rvt6B",
        "colab_type": "text"
      },
      "source": [
        "Python Workshop 2020 Session II \n",
        "===\n",
        "@Feitian College, Middletown NY\n",
        "\n"
      ]
    },
    {
      "cell_type": "markdown",
      "metadata": {
        "id": "gmfm7Qquvt6E",
        "colab_type": "text"
      },
      "source": [
        "---"
      ]
    },
    {
      "cell_type": "markdown",
      "metadata": {
        "id": "bctck4e3Hda-",
        "colab_type": "text"
      },
      "source": [
        "Questions?\n",
        "===\n",
        "- Please log on  https://yoteachapp.com/Python2020  for questions.\n",
        "- password 4922\n",
        "- Code snippets will be shared here: https://docs.google.com/document/d/1--rE5ETjsXPIt7PW8dcqsEG6UInFEh8sh7jB0PeS0Jk/edit?usp=sharing\n",
        "\n"
      ]
    },
    {
      "cell_type": "markdown",
      "metadata": {
        "id": "JpPeSRDyvt6F",
        "colab_type": "text"
      },
      "source": [
        "# Defining and Using Functions"
      ]
    },
    {
      "cell_type": "markdown",
      "metadata": {
        "id": "2FZcXovzvt6H",
        "colab_type": "text"
      },
      "source": [
        "In the previous session, our scripts have been simple, single-use code blocks.\n",
        "One way to organize our Python code and to make it more readable and reusable is to factor-out useful pieces into reusable *functions*.\n",
        "Here we'll cover two ways of creating functions: the ``def`` statement, useful for any type of function, and the ``lambda`` statement, useful for creating short anonymous functions."
      ]
    },
    {
      "cell_type": "markdown",
      "metadata": {
        "id": "r0N4yzWFvt6I",
        "colab_type": "text"
      },
      "source": [
        "## Using Functions\n",
        "\n",
        "Functions are groups of code that have a name, and can be called using parentheses.\n",
        "We've seen functions before. For example, ``print`` in Python 3 is a function:"
      ]
    },
    {
      "cell_type": "code",
      "metadata": {
        "id": "M6MXVuYTvt6J",
        "colab_type": "code",
        "outputId": "3dcec79d-89b7-46e9-812a-10ea66f9f7a5",
        "colab": {}
      },
      "source": [
        "print('abc')"
      ],
      "execution_count": 0,
      "outputs": [
        {
          "output_type": "stream",
          "text": [
            "abc\n"
          ],
          "name": "stdout"
        }
      ]
    },
    {
      "cell_type": "markdown",
      "metadata": {
        "id": "xtzZGPJxvt6P",
        "colab_type": "text"
      },
      "source": [
        "Here ``print`` is the function name, and ``'abc'`` is the function's *argument*.\n",
        "\n",
        "In addition to arguments, there are *keyword arguments* that are specified by name.\n",
        "One available keyword argument for the ``print()`` function (in Python 3) is ``sep``, which tells what character or characters should be used to separate multiple items:"
      ]
    },
    {
      "cell_type": "code",
      "metadata": {
        "id": "_AbzF9aRvt6Q",
        "colab_type": "code",
        "outputId": "d8b7c641-b8f7-4c8f-e8ea-e5b25894c821",
        "colab": {}
      },
      "source": [
        "print(1, 2, 3)"
      ],
      "execution_count": 0,
      "outputs": [
        {
          "output_type": "stream",
          "text": [
            "1 2 3\n"
          ],
          "name": "stdout"
        }
      ]
    },
    {
      "cell_type": "code",
      "metadata": {
        "ExecuteTime": {
          "end_time": "2020-01-29T15:46:49.054659Z",
          "start_time": "2020-01-29T15:46:49.025567Z"
        },
        "id": "X0Cdkm1Cvt6T",
        "colab_type": "code",
        "outputId": "c8d9024c-3395-4f9e-c138-bd790120457d",
        "colab": {}
      },
      "source": [
        "print(1, 2, 3, 12, 12, 123,435, 4, sep='--')"
      ],
      "execution_count": 0,
      "outputs": [
        {
          "output_type": "stream",
          "text": [
            "1--2--3--12--12--123--435--4\n"
          ],
          "name": "stdout"
        }
      ]
    },
    {
      "cell_type": "markdown",
      "metadata": {
        "id": "sVPay3KWvt6X",
        "colab_type": "text"
      },
      "source": [
        "When non-keyword arguments are used together with keyword arguments, the keyword arguments must come at the end."
      ]
    },
    {
      "cell_type": "markdown",
      "metadata": {
        "id": "ZM9jDnQKvt6Y",
        "colab_type": "text"
      },
      "source": [
        "#### Another example is len() function"
      ]
    },
    {
      "cell_type": "code",
      "metadata": {
        "ExecuteTime": {
          "end_time": "2020-04-30T18:18:49.434609Z",
          "start_time": "2020-04-30T18:18:49.408024Z"
        },
        "id": "HCxL4aTevt6Z",
        "colab_type": "code",
        "outputId": "3ff7e8b9-f176-4d35-b07f-0d7ded6b42b7",
        "colab": {}
      },
      "source": [
        "a = ['foo', 'bar', 'baz', 'qux']\n",
        "len(a)\n"
      ],
      "execution_count": 0,
      "outputs": [
        {
          "output_type": "execute_result",
          "data": {
            "text/plain": [
              "4"
            ]
          },
          "metadata": {
            "tags": []
          },
          "execution_count": 1
        }
      ]
    },
    {
      "cell_type": "markdown",
      "metadata": {
        "id": "6u_aCnLcFLzW",
        "colab_type": "text"
      },
      "source": [
        "### Functions you are not aware of (Duck typing)"
      ]
    },
    {
      "cell_type": "code",
      "metadata": {
        "id": "Ra90L9QTDsaY",
        "colab_type": "code",
        "outputId": "a7cd60ec-6e19-4c16-9692-cfd1184d1dfb",
        "colab": {
          "base_uri": "https://localhost:8080/",
          "height": 34
        }
      },
      "source": [
        "c = \"abc\"\n",
        "print(c + \"123\")\n"
      ],
      "execution_count": 0,
      "outputs": [
        {
          "output_type": "stream",
          "text": [
            "abc123\n"
          ],
          "name": "stdout"
        }
      ]
    },
    {
      "cell_type": "code",
      "metadata": {
        "id": "mhflBV_yES_w",
        "colab_type": "code",
        "colab": {}
      },
      "source": [
        "?c.__add__"
      ],
      "execution_count": 0,
      "outputs": []
    },
    {
      "cell_type": "code",
      "metadata": {
        "id": "niK3NkKSEjX2",
        "colab_type": "code",
        "outputId": "7a502b10-f9ab-498f-ec88-d5207b0dfdb5",
        "colab": {
          "base_uri": "https://localhost:8080/",
          "height": 34
        }
      },
      "source": [
        "c.__add__(\"123\")"
      ],
      "execution_count": 0,
      "outputs": [
        {
          "output_type": "execute_result",
          "data": {
            "text/plain": [
              "'abc123'"
            ]
          },
          "metadata": {
            "tags": []
          },
          "execution_count": 13
        }
      ]
    },
    {
      "cell_type": "code",
      "metadata": {
        "id": "7Zri_Xw6FrqP",
        "colab_type": "code",
        "outputId": "1590172d-dcc5-4107-c780-31d516a2bf01",
        "colab": {
          "base_uri": "https://localhost:8080/",
          "height": 34
        }
      },
      "source": [
        "\"abc\".__mul__(3)"
      ],
      "execution_count": 0,
      "outputs": [
        {
          "output_type": "execute_result",
          "data": {
            "text/plain": [
              "'abcabcabc'"
            ]
          },
          "metadata": {
            "tags": []
          },
          "execution_count": 17
        }
      ]
    },
    {
      "cell_type": "code",
      "metadata": {
        "id": "RBswGWYfF-Bq",
        "colab_type": "code",
        "outputId": "69e02894-148c-4ac0-d358-62af29970523",
        "colab": {
          "base_uri": "https://localhost:8080/",
          "height": 34
        }
      },
      "source": [
        "#print(\"abc\"*3)\n",
        "\"abc\"*3"
      ],
      "execution_count": 0,
      "outputs": [
        {
          "output_type": "execute_result",
          "data": {
            "text/plain": [
              "'abcabcabc'"
            ]
          },
          "metadata": {
            "tags": []
          },
          "execution_count": 21
        }
      ]
    },
    {
      "cell_type": "code",
      "metadata": {
        "id": "e8SqAyatGuJL",
        "colab_type": "code",
        "outputId": "158165dc-13f5-4e87-99bf-8b8a959247a5",
        "colab": {
          "base_uri": "https://localhost:8080/",
          "height": 162
        }
      },
      "source": [
        "\"abc\"*1.5"
      ],
      "execution_count": 0,
      "outputs": [
        {
          "output_type": "error",
          "ename": "TypeError",
          "evalue": "ignored",
          "traceback": [
            "\u001b[0;31m---------------------------------------------------------------------------\u001b[0m",
            "\u001b[0;31mTypeError\u001b[0m                                 Traceback (most recent call last)",
            "\u001b[0;32m<ipython-input-20-a176c583396e>\u001b[0m in \u001b[0;36m<module>\u001b[0;34m()\u001b[0m\n\u001b[0;32m----> 1\u001b[0;31m \u001b[0;34m\"abc\"\u001b[0m\u001b[0;34m*\u001b[0m\u001b[0;36m1.5\u001b[0m\u001b[0;34m\u001b[0m\u001b[0;34m\u001b[0m\u001b[0m\n\u001b[0m",
            "\u001b[0;31mTypeError\u001b[0m: can't multiply sequence by non-int of type 'float'"
          ]
        }
      ]
    },
    {
      "cell_type": "markdown",
      "metadata": {
        "id": "MplcPASfG055",
        "colab_type": "text"
      },
      "source": [
        "### Duck Typing\n",
        "\n",
        "\n",
        "*“If it looks like a duck and quacks like a duck, it’s a duck”*\n",
        "\n",
        "Python sees `a*b` then calls `__mul__` function/method for the operation between `a` and `b`, as long as `a` has the function/method defined."
      ]
    },
    {
      "cell_type": "markdown",
      "metadata": {
        "id": "ML6TluQGvt6d",
        "colab_type": "text"
      },
      "source": [
        "### Abstraction and Reusability\n",
        "\n",
        "Suppose you write some code that does something useful. As you continue development, you find that the task performed by that code is one you need often, in many different locations within your application. \n",
        "\n",
        "A good solution is to define a Python function that performs the task. \n",
        "\n",
        "The abstraction of functionality into a function definition is an example of the **Don’t Repeat Yourself (DRY)** Principle of software development. This is arguably the strongest motivation for using functions.\n",
        "\n",
        "### Modularity\n",
        "\n",
        "Functions allow complex processes to be broken up into smaller steps. Imagine, for example, that you have a program that reads in a file, processes the file contents, and then writes an output file. Your code could look like this:\n",
        "\n",
        "```python\n",
        "def read_file():\n",
        "    # Code to read file in\n",
        "    <statement>\n",
        "    <statement>\n",
        "\n",
        "def process_file():\n",
        "    # Code to process file\n",
        "    <statement>\n",
        "    <statement>\n",
        "\n",
        "def write_file():\n",
        "    # Code to write file out\n",
        "    <statement>\n",
        "    <statement>\n",
        "\n",
        "# Main program\n",
        "read_file()\n",
        "process_file()\n",
        "write_file()\n",
        "```\n",
        "This example is modularized. Instead of all the code being strung together, it’s broken out into separate functions, each of which focuses on a specific task. "
      ]
    },
    {
      "cell_type": "markdown",
      "metadata": {
        "id": "DPI7uedsvt6h",
        "colab_type": "text"
      },
      "source": [
        "## Defining Functions\n",
        "\n",
        "\n",
        "In Python, functions are defined with the ``def`` statement.\n",
        "For example, we can encapsulate a version of our Fibonacci sequence code from the previous section as follows:"
      ]
    },
    {
      "cell_type": "code",
      "metadata": {
        "ExecuteTime": {
          "end_time": "2020-04-30T18:44:54.425496Z",
          "start_time": "2020-04-30T18:44:54.420971Z"
        },
        "id": "MHWGUB28vt6j",
        "colab_type": "code",
        "colab": {}
      },
      "source": [
        "def func1(qty, item, price):\n",
        "     return f'{qty} {item} cost ${price:.2f}'\n"
      ],
      "execution_count": 0,
      "outputs": []
    },
    {
      "cell_type": "code",
      "metadata": {
        "ExecuteTime": {
          "end_time": "2020-04-30T18:44:55.686871Z",
          "start_time": "2020-04-30T18:44:55.679607Z"
        },
        "id": "WxPejxffvt6p",
        "colab_type": "code",
        "outputId": "d9409a4e-1bdb-4ff9-89a3-53f8b065aba8",
        "colab": {
          "base_uri": "https://localhost:8080/",
          "height": 34
        }
      },
      "source": [
        "func1(6, 'bananas', 1.74)"
      ],
      "execution_count": 0,
      "outputs": [
        {
          "output_type": "execute_result",
          "data": {
            "text/plain": [
              "'6 bananas cost $1.74'"
            ]
          },
          "metadata": {
            "tags": []
          },
          "execution_count": 2
        }
      ]
    },
    {
      "cell_type": "code",
      "metadata": {
        "ExecuteTime": {
          "end_time": "2020-04-30T18:45:06.897347Z",
          "start_time": "2020-04-30T18:45:06.888560Z"
        },
        "id": "VAbp_cmAvt6u",
        "colab_type": "code",
        "outputId": "0b0c1096-6a18-45d4-a29a-108c816f5054",
        "colab": {
          "base_uri": "https://localhost:8080/",
          "height": 34
        }
      },
      "source": [
        "x = func1(6, 'bananas', 1.74)\n",
        "print(x)"
      ],
      "execution_count": 0,
      "outputs": [
        {
          "output_type": "stream",
          "text": [
            "6 bananas cost $1.74\n"
          ],
          "name": "stdout"
        }
      ]
    },
    {
      "cell_type": "markdown",
      "metadata": {
        "id": "mnGYT9w9vt6x",
        "colab_type": "text"
      },
      "source": [
        "#### Functions without returning anything"
      ]
    },
    {
      "cell_type": "code",
      "metadata": {
        "ExecuteTime": {
          "end_time": "2020-04-30T19:07:30.442922Z",
          "start_time": "2020-04-30T19:07:30.407686Z"
        },
        "id": "6KrCmCynvt6y",
        "colab_type": "code",
        "outputId": "0d1f7f4f-ef08-4f55-de75-2ed36fa1fcbe",
        "colab": {
          "base_uri": "https://localhost:8080/",
          "height": 50
        }
      },
      "source": [
        "def f(qty, item, price):\n",
        "     print(f'{qty} {item} cost ${price:.2f}')\n",
        "x = f(6, 'bananas', 1.74)\n",
        "print(\"Value returned by f :\", x)"
      ],
      "execution_count": 0,
      "outputs": [
        {
          "output_type": "stream",
          "text": [
            "6 bananas cost $1.74\n",
            "Value returned by f : None\n"
          ],
          "name": "stdout"
        }
      ]
    },
    {
      "cell_type": "markdown",
      "metadata": {
        "id": "fDPuYsvavt61",
        "colab_type": "text"
      },
      "source": [
        "#### Formal parameters/arguements and actual parameters\n",
        "\n",
        "- Trace a function call:\n",
        "  - http://pythontutor.com/visualize.html#mode=edit\n",
        "<img src=\"https://files.realpython.com/media/t.4eefe0ad45c8.png\">"
      ]
    },
    {
      "cell_type": "code",
      "metadata": {
        "ExecuteTime": {
          "end_time": "2020-04-30T19:07:39.452151Z",
          "start_time": "2020-04-30T19:07:39.381294Z"
        },
        "id": "kq7KYVNjvt62",
        "colab_type": "code",
        "outputId": "7e061194-f3ec-4b4c-8bcf-0a39ed962f66",
        "colab": {}
      },
      "source": [
        "# Too few arguements\n",
        "f(6, 'bananas')"
      ],
      "execution_count": 0,
      "outputs": [
        {
          "output_type": "error",
          "ename": "TypeError",
          "evalue": "f() missing 1 required positional argument: 'price'",
          "traceback": [
            "\u001b[0;31m---------------------------------------------------------------------------\u001b[0m",
            "\u001b[0;31mTypeError\u001b[0m                                 Traceback (most recent call last)",
            "\u001b[0;32m<ipython-input-13-bf635d32eea0>\u001b[0m in \u001b[0;36m<module>\u001b[0;34m\u001b[0m\n\u001b[0;32m----> 1\u001b[0;31m \u001b[0mf\u001b[0m\u001b[0;34m(\u001b[0m\u001b[0;36m6\u001b[0m\u001b[0;34m,\u001b[0m \u001b[0;34m'bananas'\u001b[0m\u001b[0;34m)\u001b[0m\u001b[0;34m\u001b[0m\u001b[0;34m\u001b[0m\u001b[0m\n\u001b[0m",
            "\u001b[0;31mTypeError\u001b[0m: f() missing 1 required positional argument: 'price'"
          ]
        }
      ]
    },
    {
      "cell_type": "code",
      "metadata": {
        "ExecuteTime": {
          "end_time": "2020-04-30T19:08:42.821341Z",
          "start_time": "2020-04-30T19:08:42.790613Z"
        },
        "id": "x6dIXYFAvt69",
        "colab_type": "code",
        "outputId": "677dc02e-0cfa-4027-c518-d7de49a8bed0",
        "colab": {}
      },
      "source": [
        "# Too many arguements\n",
        "\n",
        "f(6, 'bananas', 1.74, 'kiwi')"
      ],
      "execution_count": 0,
      "outputs": [
        {
          "output_type": "error",
          "ename": "TypeError",
          "evalue": "f() takes 3 positional arguments but 4 were given",
          "traceback": [
            "\u001b[0;31m---------------------------------------------------------------------------\u001b[0m",
            "\u001b[0;31mTypeError\u001b[0m                                 Traceback (most recent call last)",
            "\u001b[0;32m<ipython-input-15-4293ed623caf>\u001b[0m in \u001b[0;36m<module>\u001b[0;34m\u001b[0m\n\u001b[1;32m      1\u001b[0m \u001b[0;31m# Too many arguements\u001b[0m\u001b[0;34m\u001b[0m\u001b[0;34m\u001b[0m\u001b[0;34m\u001b[0m\u001b[0m\n\u001b[1;32m      2\u001b[0m \u001b[0;34m\u001b[0m\u001b[0m\n\u001b[0;32m----> 3\u001b[0;31m \u001b[0mf\u001b[0m\u001b[0;34m(\u001b[0m\u001b[0;36m6\u001b[0m\u001b[0;34m,\u001b[0m \u001b[0;34m'bananas'\u001b[0m\u001b[0;34m,\u001b[0m \u001b[0;36m1.74\u001b[0m\u001b[0;34m,\u001b[0m \u001b[0;34m'kiwi'\u001b[0m\u001b[0;34m)\u001b[0m\u001b[0;34m\u001b[0m\u001b[0;34m\u001b[0m\u001b[0m\n\u001b[0m",
            "\u001b[0;31mTypeError\u001b[0m: f() takes 3 positional arguments but 4 were given"
          ]
        }
      ]
    },
    {
      "cell_type": "markdown",
      "metadata": {
        "id": "reDRsVrnvt7D",
        "colab_type": "text"
      },
      "source": [
        "#### Keyword arguements\n"
      ]
    },
    {
      "cell_type": "code",
      "metadata": {
        "ExecuteTime": {
          "end_time": "2020-04-30T19:11:30.044769Z",
          "start_time": "2020-04-30T19:11:30.012981Z"
        },
        "id": "cp3PgyRhvt7D",
        "colab_type": "code",
        "outputId": "893b46a2-5afa-4dd5-ed49-ff7dbcfddf1e",
        "colab": {}
      },
      "source": [
        "f(qty=6, item='bananas', price=1.74)\n",
        "f(item='bananas', price=1.74,qty=6)"
      ],
      "execution_count": 0,
      "outputs": [
        {
          "output_type": "stream",
          "text": [
            "6 bananas cost $1.74\n",
            "6 bananas cost $1.74\n"
          ],
          "name": "stdout"
        }
      ]
    },
    {
      "cell_type": "code",
      "metadata": {
        "ExecuteTime": {
          "end_time": "2020-04-30T19:12:18.614510Z",
          "start_time": "2020-04-30T19:12:18.609651Z"
        },
        "id": "s7iJNPIKvt7H",
        "colab_type": "code",
        "outputId": "9934881e-9e4e-4975-db1a-f282cea0795d",
        "colab": {}
      },
      "source": [
        "# Compare with positional arguements call\n",
        "f('bananas', 1.74, 6)"
      ],
      "execution_count": 0,
      "outputs": [
        {
          "output_type": "stream",
          "text": [
            "bananas 1.74 cost $6.00\n"
          ],
          "name": "stdout"
        }
      ]
    },
    {
      "cell_type": "code",
      "metadata": {
        "ExecuteTime": {
          "end_time": "2020-04-30T19:14:27.834958Z",
          "start_time": "2020-04-30T19:14:27.761346Z"
        },
        "id": "Xrp8isFevt7L",
        "colab_type": "code",
        "outputId": "d2a149b8-a629-4417-88ef-7cdf281c812b",
        "colab": {}
      },
      "source": [
        "# Still too few arguments\n",
        "f(qty=6, item='bananas')"
      ],
      "execution_count": 0,
      "outputs": [
        {
          "output_type": "error",
          "ename": "TypeError",
          "evalue": "f() missing 1 required positional argument: 'price'",
          "traceback": [
            "\u001b[0;31m---------------------------------------------------------------------------\u001b[0m",
            "\u001b[0;31mTypeError\u001b[0m                                 Traceback (most recent call last)",
            "\u001b[0;32m<ipython-input-19-b7d4d0495318>\u001b[0m in \u001b[0;36m<module>\u001b[0;34m\u001b[0m\n\u001b[1;32m      1\u001b[0m \u001b[0;31m# Still too few arguments\u001b[0m\u001b[0;34m\u001b[0m\u001b[0;34m\u001b[0m\u001b[0;34m\u001b[0m\u001b[0m\n\u001b[0;32m----> 2\u001b[0;31m \u001b[0mf\u001b[0m\u001b[0;34m(\u001b[0m\u001b[0mqty\u001b[0m\u001b[0;34m=\u001b[0m\u001b[0;36m6\u001b[0m\u001b[0;34m,\u001b[0m \u001b[0mitem\u001b[0m\u001b[0;34m=\u001b[0m\u001b[0;34m'bananas'\u001b[0m\u001b[0;34m)\u001b[0m\u001b[0;34m\u001b[0m\u001b[0;34m\u001b[0m\u001b[0m\n\u001b[0m",
            "\u001b[0;31mTypeError\u001b[0m: f() missing 1 required positional argument: 'price'"
          ]
        }
      ]
    },
    {
      "cell_type": "markdown",
      "metadata": {
        "id": "_Cn3FwvPvt7O",
        "colab_type": "text"
      },
      "source": [
        "#### Default Parameters \n",
        "\n",
        "Often when defining a function, there are certain values that we want the function to use most of the time, but we'd also like to give the user some flexibility. In this case, we can use default values for arguments. "
      ]
    },
    {
      "cell_type": "code",
      "metadata": {
        "ExecuteTime": {
          "end_time": "2020-04-30T19:17:04.014225Z",
          "start_time": "2020-04-30T19:17:04.002726Z"
        },
        "id": "KQQWkOjGvt7P",
        "colab_type": "code",
        "colab": {}
      },
      "source": [
        "def POW(base=2, p=2):\n",
        "    '''\n",
        "    Prints base to the power of p\n",
        "    '''\n",
        "    print(f'{base} to the power of {p} is {base**p}')"
      ],
      "execution_count": 0,
      "outputs": []
    },
    {
      "cell_type": "code",
      "metadata": {
        "ExecuteTime": {
          "end_time": "2020-04-30T19:26:03.094798Z",
          "start_time": "2020-04-30T19:26:03.039273Z"
        },
        "id": "1znwHXFTvt7S",
        "colab_type": "code",
        "outputId": "b70d6246-13d9-4fe9-8d2c-2384e7c149e7",
        "colab": {
          "base_uri": "https://localhost:8080/",
          "height": 67
        }
      },
      "source": [
        "POW()\n",
        "POW(2,3)\n",
        "POW(3, 2)\n"
      ],
      "execution_count": 0,
      "outputs": [
        {
          "output_type": "stream",
          "text": [
            "2 to the power of 2 is 4\n",
            "2 to the power of 3 is 8\n",
            "3 to the power of 2 is 9\n"
          ],
          "name": "stdout"
        }
      ]
    },
    {
      "cell_type": "code",
      "metadata": {
        "id": "E7mfPlYMyR7k",
        "colab_type": "code",
        "outputId": "276805d5-ea9c-433c-d4b2-7cdad16367db",
        "colab": {
          "base_uri": "https://localhost:8080/",
          "height": 84
        }
      },
      "source": [
        "POW(base=3, p=2)\n",
        "POW(p=2, base=3)\n",
        "POW(base=5)\n",
        "POW(p=3)"
      ],
      "execution_count": 0,
      "outputs": [
        {
          "output_type": "stream",
          "text": [
            "3 to the power of 2 is 9\n",
            "3 to the power of 2 is 9\n",
            "5 to the power of 2 is 25\n",
            "2 to the power of 3 is 8\n"
          ],
          "name": "stdout"
        }
      ]
    },
    {
      "cell_type": "markdown",
      "metadata": {
        "id": "P31Lmmghvt7Y",
        "colab_type": "text"
      },
      "source": [
        "#### Function can Return any object"
      ]
    },
    {
      "cell_type": "code",
      "metadata": {
        "ExecuteTime": {
          "end_time": "2020-04-30T19:36:08.634154Z",
          "start_time": "2020-04-30T19:36:08.621459Z"
        },
        "id": "AHCdm64ovt7Z",
        "colab_type": "code",
        "colab": {}
      },
      "source": [
        "def sum_and_mean(aList):\n",
        "    s = 0\n",
        "    for item in aList:\n",
        "        s += item\n",
        "    m = s/len(aList)\n",
        "    return s, m\n"
      ],
      "execution_count": 0,
      "outputs": []
    },
    {
      "cell_type": "code",
      "metadata": {
        "ExecuteTime": {
          "end_time": "2020-04-30T19:37:33.218799Z",
          "start_time": "2020-04-30T19:37:33.207595Z"
        },
        "id": "m5Z2MJL1vt7e",
        "colab_type": "code",
        "outputId": "19534f1f-b441-4628-a6ef-fe33098c9af0",
        "colab": {}
      },
      "source": [
        "aTuple = sum_and_mean([1,2,3,4,5])\n",
        "c,d = sum_and_mean([1,2,3,4,5])\n",
        "a, b = aTuple\n",
        "print(\"a, b: \",a, b)\n",
        "print(\"c, d: \", c, d)\n",
        "\n",
        "print(aTuple)"
      ],
      "execution_count": 0,
      "outputs": [
        {
          "output_type": "stream",
          "text": [
            "a, b:  15 3.0\n",
            "c, d:  15 3.0\n",
            "(15, 3.0)\n"
          ],
          "name": "stdout"
        }
      ]
    },
    {
      "cell_type": "markdown",
      "metadata": {
        "id": "JVbtCLeYvt7h",
        "colab_type": "text"
      },
      "source": [
        "## Now it's your turn!\n"
      ]
    },
    {
      "cell_type": "markdown",
      "metadata": {
        "id": "C3Aq0-l7vt7i",
        "colab_type": "text"
      },
      "source": [
        "Write a function which finds the length of each word in a given phrase (separated by spaces) and return the values in a list.\n",
        "\n",
        "- The function will have an input of a string, and output a list of integers.\n",
        "- Note the function shall return a list, instead of printing output on screen\n"
      ]
    },
    {
      "cell_type": "code",
      "metadata": {
        "ExecuteTime": {
          "end_time": "2020-04-30T20:02:48.590540Z",
          "start_time": "2020-04-30T20:02:48.585612Z"
        },
        "id": "CXn2LPoCvt7i",
        "colab_type": "code",
        "colab": {}
      },
      "source": [
        "def word_lengths(phrase):\n",
        "    # your code here\n",
        "    pass\n",
        " "
      ],
      "execution_count": 0,
      "outputs": []
    },
    {
      "cell_type": "code",
      "metadata": {
        "ExecuteTime": {
          "end_time": "2020-04-30T20:05:37.090545Z",
          "start_time": "2020-04-30T20:05:37.083487Z"
        },
        "id": "y71GVJPMvt7m",
        "colab_type": "code",
        "outputId": "aa2e688f-4e3e-45b6-d249-3f089cb602a8",
        "colab": {}
      },
      "source": [
        "# Hint, you want to use split method of string to split a string into list of words:\n",
        "\"This is a sentence.\".split()"
      ],
      "execution_count": 0,
      "outputs": [
        {
          "output_type": "execute_result",
          "data": {
            "text/plain": [
              "['This', 'is', 'a', 'sentence.']"
            ]
          },
          "metadata": {
            "tags": []
          },
          "execution_count": 36
        }
      ]
    },
    {
      "cell_type": "code",
      "metadata": {
        "ExecuteTime": {
          "end_time": "2020-04-30T20:03:26.269463Z",
          "start_time": "2020-04-30T20:03:26.262828Z"
        },
        "id": "GuKS35ijvt7p",
        "colab_type": "code",
        "outputId": "a2f3bf89-7fc1-4889-c484-38043b20ad7d",
        "colab": {}
      },
      "source": [
        "# Testing your function\n",
        "x = word_lengths('How long are the words in this phrase')\n",
        "print(x)\n"
      ],
      "execution_count": 0,
      "outputs": [
        {
          "output_type": "stream",
          "text": [
            "[3, 4, 3, 3, 5, 2, 4, 6]\n"
          ],
          "name": "stdout"
        }
      ]
    },
    {
      "cell_type": "markdown",
      "metadata": {
        "id": "QW0gOIFnvt7s",
        "colab_type": "text"
      },
      "source": [
        "## Anonymous (``lambda``) Functions\n",
        "Earlier we quickly covered the most common way of defining functions, the ``def`` statement.\n",
        "You'll likely come across another way of defining short, one-off functions with the ``lambda`` statement.\n",
        "It looks something like this:"
      ]
    },
    {
      "cell_type": "code",
      "metadata": {
        "ExecuteTime": {
          "end_time": "2020-01-29T16:03:22.568626Z",
          "start_time": "2020-01-29T16:03:22.549599Z"
        },
        "id": "Nwa6YMrUvt7t",
        "colab_type": "code",
        "outputId": "5bff6d54-df1d-4985-c71b-047a5a84d4e2",
        "colab": {
          "base_uri": "https://localhost:8080/",
          "height": 34
        }
      },
      "source": [
        "add = lambda x, y: x + y\n",
        "print(add(1, 2))\n",
        " "
      ],
      "execution_count": 0,
      "outputs": [
        {
          "output_type": "stream",
          "text": [
            "3\n"
          ],
          "name": "stdout"
        }
      ]
    },
    {
      "cell_type": "markdown",
      "metadata": {
        "id": "I-Voteatvt7x",
        "colab_type": "text"
      },
      "source": [
        "This lambda function is roughly equivalent to"
      ]
    },
    {
      "cell_type": "code",
      "metadata": {
        "id": "I7LkrmZCvt7y",
        "colab_type": "code",
        "colab": {}
      },
      "source": [
        "def add(x, y):\n",
        "    return x + y"
      ],
      "execution_count": 0,
      "outputs": []
    },
    {
      "cell_type": "markdown",
      "metadata": {
        "id": "_6uVhdbAvt71",
        "colab_type": "text"
      },
      "source": [
        "So why would you ever want to use such a thing?\n",
        "Primarily, it comes down to the fact that *everything is an object* in Python, even functions themselves!\n",
        "That means that functions can be passed as arguments to functions.\n",
        "\n",
        "As an example of this, suppose we have some data stored in a list of dictionaries:"
      ]
    },
    {
      "cell_type": "code",
      "metadata": {
        "ExecuteTime": {
          "end_time": "2020-01-29T16:09:26.149696Z",
          "start_time": "2020-01-29T16:09:26.129125Z"
        },
        "id": "VCIC2t7ovt72",
        "colab_type": "code",
        "colab": {}
      },
      "source": [
        "data = [{'first':'Guido', 'last':'Van Rossum', 'YOB':1956},\n",
        "        \n",
        "        {'first':'Grace', 'last':'Hopper',     'YOB':1906},\n",
        "        \n",
        "        {'first':'Alan',  'last':'Turing',     'YOB':1912}]"
      ],
      "execution_count": 0,
      "outputs": []
    },
    {
      "cell_type": "markdown",
      "metadata": {
        "id": "B36RHubwvt75",
        "colab_type": "text"
      },
      "source": [
        "Now suppose we want to sort this data.\n",
        "Python has a ``sorted`` function that does this:"
      ]
    },
    {
      "cell_type": "code",
      "metadata": {
        "ExecuteTime": {
          "end_time": "2020-01-29T16:05:28.226810Z",
          "start_time": "2020-01-29T16:05:28.184129Z"
        },
        "id": "st_eWF6Zvt75",
        "colab_type": "code",
        "outputId": "32ae886d-e504-4a18-ea3a-a0d45133565c",
        "colab": {}
      },
      "source": [
        "sorted((2,4,3,5,1,6))"
      ],
      "execution_count": 0,
      "outputs": [
        {
          "output_type": "execute_result",
          "data": {
            "text/plain": [
              "[1, 2, 3, 4, 5, 6]"
            ]
          },
          "metadata": {
            "tags": []
          },
          "execution_count": 39
        }
      ]
    },
    {
      "cell_type": "markdown",
      "metadata": {
        "id": "Ap74jGDYvt78",
        "colab_type": "text"
      },
      "source": [
        "But dictionaries are not orderable: we need a way to tell the function *how* to sort our data.\n",
        "We can do this by specifying the ``key`` function, a function which given an item returns the sorting key for that item:"
      ]
    },
    {
      "cell_type": "code",
      "metadata": {
        "ExecuteTime": {
          "end_time": "2020-01-29T16:10:19.686334Z",
          "start_time": "2020-01-29T16:10:19.654811Z"
        },
        "id": "7Nnks_x-vt78",
        "colab_type": "code",
        "outputId": "a70b41ca-e684-44d3-9936-a386fac096e2",
        "colab": {}
      },
      "source": [
        "# sort alphabetically by first name\n",
        "sorted(data, key=lambda item: item['last'])"
      ],
      "execution_count": 0,
      "outputs": [
        {
          "output_type": "execute_result",
          "data": {
            "text/plain": [
              "[{'first': 'Grace', 'last': 'Hopper', 'YOB': 1906},\n",
              " {'first': 'Alan', 'last': 'Turing', 'YOB': 1912},\n",
              " {'first': 'Guido', 'last': 'Van Rossum', 'YOB': 1956}]"
            ]
          },
          "metadata": {
            "tags": []
          },
          "execution_count": 43
        }
      ]
    },
    {
      "cell_type": "markdown",
      "metadata": {
        "id": "gtHKTGDNvt8D",
        "colab_type": "text"
      },
      "source": [
        "#### Your Turn!\n"
      ]
    },
    {
      "cell_type": "code",
      "metadata": {
        "id": "56Lz1Tftvt8F",
        "colab_type": "code",
        "outputId": "a373e803-9384-4f33-9860-750830a7705b",
        "colab": {}
      },
      "source": [
        "# Sort the dictionary data by \"YOB\" using a lambda function\n",
        "\n",
        "\n",
        "\n"
      ],
      "execution_count": 0,
      "outputs": [
        {
          "output_type": "execute_result",
          "data": {
            "text/plain": [
              "[{'YOB': 1906, 'first': 'Grace', 'last': 'Hopper'},\n",
              " {'YOB': 1912, 'first': 'Alan', 'last': 'Turing'},\n",
              " {'YOB': 1956, 'first': 'Guido', 'last': 'Van Rossum'}]"
            ]
          },
          "metadata": {
            "tags": []
          },
          "execution_count": 20
        }
      ]
    },
    {
      "cell_type": "code",
      "metadata": {
        "ExecuteTime": {
          "end_time": "2020-01-29T16:17:48.293395Z",
          "start_time": "2020-01-29T16:17:48.281951Z"
        },
        "id": "zoMsmxfdvt8Q",
        "colab_type": "code",
        "outputId": "3ac0c73b-b1a1-4004-95d1-274d68a9f2f5",
        "colab": {}
      },
      "source": [
        "dat = [\n",
        "    ('z',3),\n",
        "    ('c',-5),\n",
        "    ('a', 0)\n",
        "]\n",
        "def sortingf(x):\n",
        "    return x[1]\n",
        "sorted(dat, key=sortingf)"
      ],
      "execution_count": 0,
      "outputs": [
        {
          "output_type": "execute_result",
          "data": {
            "text/plain": [
              "[('c', -5), ('a', 0), ('z', 3)]"
            ]
          },
          "metadata": {
            "tags": []
          },
          "execution_count": 50
        }
      ]
    },
    {
      "cell_type": "markdown",
      "metadata": {
        "id": "LuYrxk07vt8U",
        "colab_type": "text"
      },
      "source": [
        "While these key functions could certainly be created by the normal, ``def`` syntax, the ``lambda`` syntax is convenient for such short one-off functions like these.\n"
      ]
    },
    {
      "cell_type": "markdown",
      "metadata": {
        "id": "3wI_Uxjzvt8V",
        "colab_type": "text"
      },
      "source": [
        "#### Your Turn"
      ]
    },
    {
      "cell_type": "code",
      "metadata": {
        "id": "STLHlPfivt8W",
        "colab_type": "code",
        "colab": {}
      },
      "source": [
        "# Sort the dat list by the first item (letter) of the tuple\n",
        "\n",
        "\n"
      ],
      "execution_count": 0,
      "outputs": []
    }
  ]
}